{
 "cells": [
  {
   "cell_type": "markdown",
   "metadata": {},
   "source": [
    "# Introduction to Data Visualization using Matplotlib\n",
    "https://matplotlib.org/"
   ]
  },
  {
   "cell_type": "markdown",
   "metadata": {},
   "source": [
    "Importing Matplotlib Package"
   ]
  },
  {
   "cell_type": "code",
   "execution_count": null,
   "metadata": {},
   "outputs": [],
   "source": [
    "import matplotlib as mpl\n",
    "import numpy as np"
   ]
  },
  {
   "cell_type": "markdown",
   "metadata": {},
   "source": [
    "Checking Matplotlib version"
   ]
  },
  {
   "cell_type": "code",
   "execution_count": null,
   "metadata": {},
   "outputs": [],
   "source": [
    "mpl.__version__"
   ]
  },
  {
   "cell_type": "markdown",
   "metadata": {},
   "source": [
    "Pyplot Module is the plotting interface "
   ]
  },
  {
   "cell_type": "code",
   "execution_count": null,
   "metadata": {},
   "outputs": [],
   "source": [
    "import matplotlib.pyplot as plt"
   ]
  },
  {
   "cell_type": "markdown",
   "metadata": {},
   "source": [
    "%matplotlib inline sets the backend of matplotlib to the 'inline' backend\n",
    "\n",
    "With this backend, the output of plotting commands is displayed inline within frontends like the Jupyter notebook, directly below the code cell that produced it. The resulting plots will then also be stored in the notebook document."
   ]
  },
  {
   "cell_type": "code",
   "execution_count": null,
   "metadata": {},
   "outputs": [],
   "source": [
    "%matplotlib inline"
   ]
  },
  {
   "cell_type": "markdown",
   "metadata": {},
   "source": [
    "### The First Graph"
   ]
  },
  {
   "cell_type": "code",
   "execution_count": null,
   "metadata": {},
   "outputs": [],
   "source": [
    "evens=np.arange(2,11,2,dtype=np.int32)\n",
    "evens"
   ]
  },
  {
   "cell_type": "code",
   "execution_count": null,
   "metadata": {},
   "outputs": [],
   "source": [
    "plt.plot(evens)"
   ]
  },
  {
   "cell_type": "markdown",
   "metadata": {},
   "source": [
    "### Inserting Legend"
   ]
  },
  {
   "cell_type": "code",
   "execution_count": null,
   "metadata": {},
   "outputs": [],
   "source": [
    "plt.plot(evens,evens**2,label = 'x^2')\n",
    "plt.legend()\n",
    "plt.show()"
   ]
  },
  {
   "cell_type": "markdown",
   "metadata": {},
   "source": [
    "### Save output graph as a file (png, pdf, svg, post)"
   ]
  },
  {
   "cell_type": "code",
   "execution_count": null,
   "metadata": {},
   "outputs": [],
   "source": [
    "plt.plot(evens,evens**2,label = 'x^2')\n",
    "plt.legend()\n",
    "plt.savefig('img/output.png')\n",
    "plt.show()"
   ]
  },
  {
   "cell_type": "code",
   "execution_count": null,
   "metadata": {},
   "outputs": [],
   "source": [
    "plt.plot(evens,evens**2,label = 'x^2')\n",
    "plt.legend()\n",
    "plt.savefig('img/output1.png', dpi=300)\n",
    "plt.show()"
   ]
  },
  {
   "cell_type": "markdown",
   "metadata": {},
   "source": [
    "Suggestions for Graphic Resolution "
   ]
  },
  {
   "cell_type": "markdown",
   "metadata": {},
   "source": [
    "![title](img/screen.jpg)"
   ]
  },
  {
   "cell_type": "markdown",
   "metadata": {},
   "source": [
    "## Anatomy of a Figure\n",
    "### Figure is whole plotting area that contains all plot elements"
   ]
  },
  {
   "cell_type": "markdown",
   "metadata": {},
   "source": [
    "![title](img/anatomy.png)"
   ]
  },
  {
   "cell_type": "markdown",
   "metadata": {},
   "source": [
    "## Specifying Colors\n",
    "![title](img/phone_sales.jpg)\n",
    "The dataset from https://www.statista.com/statistics/263445/global-smartphone-sales-by-operating-system-since-2009/"
   ]
  },
  {
   "cell_type": "markdown",
   "metadata": {},
   "source": [
    "## Specifying Color\n",
    "### Default color cycle demo"
   ]
  },
  {
   "cell_type": "code",
   "execution_count": null,
   "metadata": {},
   "outputs": [],
   "source": [
    "%matplotlib inline\n",
    "import matplotlib.pyplot as plt"
   ]
  },
  {
   "cell_type": "markdown",
   "metadata": {},
   "source": [
    "Define the years"
   ]
  },
  {
   "cell_type": "code",
   "execution_count": null,
   "metadata": {},
   "outputs": [],
   "source": [
    "years = list(range(2009,2017))\n",
    "years"
   ]
  },
  {
   "cell_type": "markdown",
   "metadata": {},
   "source": [
    "Define Dataset"
   ]
  },
  {
   "cell_type": "code",
   "execution_count": null,
   "metadata": {},
   "outputs": [],
   "source": [
    "android = [6.8,67.22,220.67,451.62,761.29,1004.68,1160.21,1271.02]\n",
    "ios = [24.89,46.6,89.27,130.13,150.79,191.43,225.85,216.07]\n",
    "microsoft = [15.03,12.38,8.76,16.94,30.71,35.13,26.74,6.94]"
   ]
  },
  {
   "cell_type": "markdown",
   "metadata": {},
   "source": [
    "Plot Graph"
   ]
  },
  {
   "cell_type": "code",
   "execution_count": null,
   "metadata": {},
   "outputs": [],
   "source": [
    "plt.plot(years,android,label='Android') # color='C0' by default\n",
    "plt.plot(years,ios,label='iOS') # color='C1' by default\n",
    "plt.plot(years,microsoft,label='Microsoft') # color='C2' by default\n",
    "plt.legend()\n",
    "plt.show()"
   ]
  },
  {
   "cell_type": "markdown",
   "metadata": {},
   "source": [
    "### Specific color cycle demo"
   ]
  },
  {
   "cell_type": "code",
   "execution_count": 1,
   "metadata": {},
   "outputs": [
    {
     "data": {
      "image/png": "[encoded data removed]",
      "text/plain": [
       "<Figure size 432x288 with 1 Axes>"
      ]
     },
     "metadata": {
      "needs_background": "light"
     },
     "output_type": "display_data"
    }
   ],
   "source": [
    "%matplotlib inline\n",
    "import matplotlib.pyplot as plt\n",
    "years = list(range(2009,2017))\n",
    "android = [6.8,67.22,220.67,451.62,761.29,1004.68,1160.21,1271.02]\n",
    "ios = [24.89,46.6,89.27,130.13,150.79,191.43,225.85,216.07]\n",
    "microsoft = [15.03,12.38,8.76,16.94,30.71,35.13,26.74,6.94]\n",
    "plt.plot(years,android,label='Android',c='C2')\n",
    "plt.plot(years,ios,label='iOS',c='C0')\n",
    "plt.plot(years,microsoft,label='Microsoft',c='C1')\n",
    "plt.legend()\n",
    "plt.show()"
   ]
  },
  {
   "cell_type": "code",
   "execution_count": null,
   "metadata": {},
   "outputs": [],
   "source": []
  },
  {
   "cell_type": "markdown",
   "metadata": {},
   "source": [
    "### Adjusting text formats"
   ]
  },
  {
   "cell_type": "code",
   "execution_count": null,
   "metadata": {},
   "outputs": [],
   "source": [
    "import matplotlib.pyplot as plt\n",
    "\n",
    "fontparams = {'size':16,'fontweight':'light','family':'monospace','style':'normal'}\n",
    "\n",
    "x = [1,2,3]\n",
    "y = [2,4,6]\n",
    "\n",
    "plt.plot(x,y)\n",
    "\n",
    "plt.xlabel('xlabel',size=20,fontweight='semibold',family='serif',style='italic')\n",
    "plt.ylabel('ylabel',fontparams)\n",
    "\n",
    "plt.show()"
   ]
  },
  {
   "cell_type": "markdown",
   "metadata": {},
   "source": [
    "### Latex support in Matplotlib"
   ]
  },
  {
   "cell_type": "code",
   "execution_count": 2,
   "metadata": {},
   "outputs": [
    {
     "data": {
      "image/png": "[encoded data removed]",
      "text/plain": [
       "<Figure size 432x288 with 1 Axes>"
      ]
     },
     "metadata": {
      "needs_background": "light"
     },
     "output_type": "display_data"
    }
   ],
   "source": [
    "import numpy as np\n",
    "import matplotlib.pyplot as plt\n",
    "\n",
    "# Prepare a curve of square numbers\n",
    "x = np.linspace(0,200,100) # Prepare 100 evenly spaced numbers from  0 to 200\n",
    "y1 = x # Prepare an array of y equals to x squared\n",
    "y2 = x+20\n",
    "\n",
    "# Plot a curve of square numbers\n",
    "plt.plot(x,y1,label = '$x$')\n",
    "plt.plot(x,y2,label = r'$x^2+\\alpha$')\n",
    "plt.legend()\n",
    "plt.show()"
   ]
  },
  {
   "cell_type": "markdown",
   "metadata": {},
   "source": [
    "### Lines"
   ]
  },
  {
   "cell_type": "code",
   "execution_count": null,
   "metadata": {},
   "outputs": [],
   "source": [
    "import numpy as np\n",
    "import matplotlib.pyplot as plt\n",
    "import matplotlib as mpl"
   ]
  },
  {
   "cell_type": "code",
   "execution_count": null,
   "metadata": {},
   "outputs": [],
   "source": [
    "x = np.linspace(0,200,100) #linspace(start, stop, number)\n",
    "x"
   ]
  },
  {
   "cell_type": "code",
   "execution_count": null,
   "metadata": {},
   "outputs": [],
   "source": [
    "y1 = x*2\n",
    "y2 = x*3\n",
    "y3 = x*4\n",
    "y4 = x*5"
   ]
  },
  {
   "cell_type": "code",
   "execution_count": null,
   "metadata": {},
   "outputs": [],
   "source": [
    "mpl.rcParams['lines.linewidth'] = 2"
   ]
  },
  {
   "cell_type": "code",
   "execution_count": null,
   "metadata": {},
   "outputs": [],
   "source": [
    "plt.plot(x,y1,label = '2x', c='0') # Black solid line\n",
    "plt.plot(x,y2,label = '3x', c='0.2', ls='--') # Dark grey dashed line\n",
    "plt.plot(x,y3,label = '4x', c='0.4', ls='-.') # Grey dash-dot line\n",
    "plt.plot(x,y4,label = '5x', c='0.6', ls=':') # Light grey dotted line\n",
    "\n",
    "plt.legend()\n",
    "plt.show()"
   ]
  },
  {
   "cell_type": "markdown",
   "metadata": {},
   "source": [
    "#### For more details about Dash Pattern, Please check here: https://matplotlib.org/api/_as_gen/matplotlib.pyplot.plot.html"
   ]
  },
  {
   "cell_type": "code",
   "execution_count": null,
   "metadata": {},
   "outputs": [],
   "source": [
    "import numpy as np\n",
    "import matplotlib.pyplot as plt\n",
    "\n",
    "# Prepare 6 lines\n",
    "x = np.linspace(0,200,100)\n",
    "y1 = x*0.5\n",
    "y2 = x\n",
    "y3 = x*2\n",
    "y4 = x*3\n",
    "y5 = x*4\n",
    "y6 = x*5\n",
    "\n",
    "# Plot lines with different dash cap styles\n",
    "\n",
    "plt.plot(x,y1,label = '0.5x', lw=5, ls=':',dash_capstyle='butt')\n",
    "plt.plot(x,y2,label = 'x', lw=5, ls='--',dash_capstyle='butt')\n",
    "plt.plot(x,y3,label = '2x', lw=5, ls=':',dash_capstyle='projecting')\n",
    "plt.plot(x,y4,label = '3x', lw=5, ls='--',dash_capstyle='projecting')\n",
    "plt.plot(x,y5,label = '4x', lw=5, ls=':',dash_capstyle='round')\n",
    "plt.plot(x,y6,label = '5x', lw=5, ls='--',dash_capstyle='round')\n",
    "\n",
    "plt.legend()\n",
    "plt.show()"
   ]
  },
  {
   "cell_type": "markdown",
   "metadata": {},
   "source": [
    "### Markers"
   ]
  },
  {
   "cell_type": "markdown",
   "metadata": {},
   "source": [
    "Display simple marker"
   ]
  },
  {
   "cell_type": "code",
   "execution_count": null,
   "metadata": {},
   "outputs": [],
   "source": [
    "x = np.linspace(0,20,10)\n",
    "y = x\n",
    "\n",
    "plt.plot(x,y,'^') # pyplot.plot(x,y,marker='^')\n",
    "plt.show()"
   ]
  },
  {
   "cell_type": "markdown",
   "metadata": {},
   "source": [
    "Display different marker"
   ]
  },
  {
   "cell_type": "code",
   "execution_count": null,
   "metadata": {},
   "outputs": [],
   "source": [
    "import numpy as np\n",
    "import matplotlib.pyplot as plt\n",
    "import matplotlib.ticker as ticker # For different marker sizes\n",
    "\n",
    "# Prepare 5 lines\n",
    "x = np.linspace(0,20,10)\n",
    "y1 = x\n",
    "y2 = x*2\n",
    "y3 = x*3\n",
    "y4 = x*4\n",
    "y5 = x*5\n",
    "\n",
    "# Plot lines with different marker sizes\n",
    "plt.plot(x,y1,label = 'x', lw=2, marker='s', ms=10) # square size 10\n",
    "plt.plot(x,y2,label = '2x', lw=2, marker='^', ms=12) # triangle size 12\n",
    "plt.plot(x,y3,label = '3x', lw=2, marker='o', ms=10) # circle size 10\n",
    "plt.plot(x,y4,label = '4x', lw=2, marker='D', ms=8) # diamond size 8\n",
    "plt.plot(x,y5,label = '5x', lw=2, marker='P', ms=12) # filled plus sign size 12\n",
    "\n",
    "ax = plt.gca()\n",
    "plt.legend()\n",
    "plt.show()"
   ]
  },
  {
   "cell_type": "markdown",
   "metadata": {},
   "source": [
    "For more details about marker: https://matplotlib.org/api/markers_api.html"
   ]
  },
  {
   "cell_type": "markdown",
   "metadata": {},
   "source": [
    "### Grid"
   ]
  },
  {
   "cell_type": "code",
   "execution_count": null,
   "metadata": {},
   "outputs": [],
   "source": [
    "import numpy as np\n",
    "import matplotlib.pyplot as plt\n",
    "\n",
    "# Prepare 100 evenly spaced numbers from 0 to 200\n",
    "evens = np.linspace(0,200,100)\n",
    "\n",
    "# Plot a square curve\n",
    "plt.plot(evens,evens**2,label = 'x^2')\n",
    "\n",
    "# Adding grid lines\n",
    "plt.grid()\n",
    "\n",
    "plt.legend()\n",
    "plt.show()"
   ]
  },
  {
   "cell_type": "markdown",
   "metadata": {},
   "source": [
    "Custom grid line, just focus only number"
   ]
  },
  {
   "cell_type": "code",
   "execution_count": null,
   "metadata": {},
   "outputs": [],
   "source": [
    "import numpy as np\n",
    "import matplotlib.pyplot as plt\n",
    "\n",
    "# Prepare 100 evenly spaced numbers from 0 to 200\n",
    "evens = np.linspace(0,200,100)\n",
    "\n",
    "# Plot a square curve\n",
    "plt.plot(evens,evens**2,label = 'x^2')\n",
    "\n",
    "# Adding grid lines\n",
    "plt.grid(color='lightblue', linestyle='-.', linewidth=0.6)\n",
    "\n",
    "plt.legend()\n",
    "plt.show()"
   ]
  },
  {
   "cell_type": "markdown",
   "metadata": {},
   "source": [
    "### Tick - Help reader to estimate coordinate"
   ]
  },
  {
   "cell_type": "markdown",
   "metadata": {},
   "source": [
    "We can plot emoji icon from https://emojipedia.org/facebook/"
   ]
  },
  {
   "cell_type": "code",
   "execution_count": null,
   "metadata": {},
   "outputs": [],
   "source": [
    "import matplotlib.pyplot as plt\n",
    "import matplotlib as mpl\n",
    "mpl.rcParams.update(mpl.rcParamsDefault)\n",
    "\n",
    "fig, ax = plt.subplots()\n",
    "tick_labels = [ '❤️', '😂', '😯', '😢', '😡'] # cannot show '👍'\n",
    "\n",
    "y = [24,12,16,2,1]\n",
    "x = range(5)\n",
    "\n",
    "ax.bar(x, y, tick_label=tick_labels, align='center',facecolor='#3b5998')\n",
    "ax.xaxis.set_tick_params(labelsize=36)\n",
    "\n",
    "ax.set_title('Facebook post reactions')\n",
    "plt.show()"
   ]
  },
  {
   "cell_type": "markdown",
   "metadata": {},
   "source": [
    "Dataset - Number of Netflix streaming subscribers worldwide\n",
    "- https://www.statista.com/statistics/250934/quarterly-number-of-netflix-streaming-subscribers-worldwide/"
   ]
  },
  {
   "cell_type": "code",
   "execution_count": null,
   "metadata": {
    "scrolled": true
   },
   "outputs": [],
   "source": [
    "import numpy as np\n",
    "import matplotlib.pyplot as plt\n",
    "import matplotlib.ticker as ticker\n",
    "%matplotlib inline\n",
    "\n",
    "# Prepare the data set\n",
    "x = range(2011,2018)\n",
    "y = [26.48,27.56,29.41,33.27,36.32,37.55,40.28,44.35,\n",
    "     48.36,50.05,53.06,57.39,62.27,65.55,69.17,74.76,81.5,\n",
    "     83.18,86.74,93.8,98.75] # quarterly subscriber count in millions\n",
    "\n",
    "# Plot lines with different line styles\n",
    "plt.plot(y,'^',label = 'Netflix subscribers',ls='-')\n",
    "\n",
    "# get current axes and store it to ax\n",
    "ax = plt.gca()\n",
    "\n",
    "# set ticks in multiples for both labels\n",
    "ax.xaxis.set_major_locator(ticker.MultipleLocator(4)) # set major marks every 4 quarters, ie once a year\n",
    "ax.xaxis.set_minor_locator(ticker.MultipleLocator(1)) # set minor marks for each quarter\n",
    "ax.yaxis.set_major_locator(ticker.MultipleLocator(10))  \n",
    "ax.yaxis.set_minor_locator(ticker.MultipleLocator(2))\n",
    "\n",
    "# label the start of each year by FixedFormatter\n",
    "ax.get_xaxis().set_major_formatter(ticker.FixedFormatter(x))\n",
    "\n",
    "plt.xlabel('Year')\n",
    "plt.ylabel('Number of subscribers(Millions)')\n",
    "\n",
    "plt.legend()\n",
    "plt.show()"
   ]
  },
  {
   "cell_type": "markdown",
   "metadata": {},
   "source": [
    "Tick Rotation"
   ]
  },
  {
   "cell_type": "code",
   "execution_count": null,
   "metadata": {},
   "outputs": [],
   "source": [
    "import matplotlib.pyplot as plt\n",
    "import numpy as np\n",
    "import matplotlib as mpl\n",
    "\n",
    "techs = ['Google Adsense','DoubleClick.Net','Facebook Custom Audiences',\n",
    "         'Google Publisher Tag','App Nexus']\n",
    "y_pos = np.arange(len(techs))\n",
    "\n",
    "websites = [14409195,1821385,948344,176310,283766]\n",
    "plt.bar(y_pos, websites, align='center', alpha=0.5)\n",
    "\n",
    "# set x-axis tick rotation\n",
    "plt.xticks(y_pos, techs, rotation=25)\n",
    "\n",
    "plt.ylabel('Live site count')\n",
    "plt.title('Online advertising technologies usage')\n",
    "\n",
    "plt.tight_layout()\n",
    "plt.savefig(\"plot.png\")\n",
    "plt.show()"
   ]
  },
  {
   "cell_type": "markdown",
   "metadata": {},
   "source": [
    "### Using Style Sheets"
   ]
  },
  {
   "cell_type": "code",
   "execution_count": null,
   "metadata": {},
   "outputs": [],
   "source": [
    "import matplotlib.pyplot as plt\n",
    "print(plt.style.available)"
   ]
  },
  {
   "cell_type": "code",
   "execution_count": null,
   "metadata": {},
   "outputs": [],
   "source": [
    "import numpy as np\n",
    "import matplotlib as mpl\n",
    "\n",
    "# set the style as 'bmh'\n",
    "mpl.style.use('bmh')\n",
    "\n",
    "techs = ['Google Adsense','DoubleClick.Net','Facebook Custom Audiences',\n",
    "         'Google Publisher Tag','App Nexus']\n",
    "y_pos = np.arange(len(techs))\n",
    "\n",
    "websites = [14409195,1821385,948344,176310,283766]\n",
    "plt.bar(y_pos, websites, align='center', alpha=0.5)\n",
    "\n",
    "# set x-axis tick rotation\n",
    "plt.xticks(y_pos, techs, rotation=25)\n",
    "\n",
    "plt.ylabel('Live site count')\n",
    "plt.title('Online advertising technologies usage')\n",
    "\n",
    "plt.tight_layout()\n",
    "plt.savefig(\"plot.png\")\n",
    "plt.show()\n"
   ]
  },
  {
   "cell_type": "markdown",
   "metadata": {},
   "source": [
    "The matplotlib.rcdefaults() command will restore the standard matplotlib default settings."
   ]
  },
  {
   "cell_type": "code",
   "execution_count": null,
   "metadata": {},
   "outputs": [],
   "source": [
    "import matplotlib.pyplot as plt\n",
    "plt.rcdefaults()"
   ]
  },
  {
   "cell_type": "markdown",
   "metadata": {},
   "source": [
    "### Title and Legend\n",
    "Default - Matplotlib will find the best location for the legend"
   ]
  },
  {
   "cell_type": "code",
   "execution_count": null,
   "metadata": {},
   "outputs": [],
   "source": [
    "N = 30\n",
    "mpl.rcParams.update(mpl.rcParamsDefault)\n",
    "\n",
    "np.random.seed(42)\n",
    "x1 = np.random.rand(N)\n",
    "y1 = np.random.rand(N)\n",
    "\n",
    "np.random.seed(24)\n",
    "x2 = np.random.rand(N)\n",
    "y2 = np.random.rand(N)\n",
    "\n",
    "plt.scatter(x1, y1,label='a')\n",
    "plt.scatter(x2, y2,label='b')\n",
    "\n",
    "plt.title(\"Scatter Plot\")\n",
    "plt.legend(loc=3,edgecolor=\"red\")\n",
    "plt.show()"
   ]
  },
  {
   "cell_type": "markdown",
   "metadata": {},
   "source": [
    "Custom Lagend Location"
   ]
  },
  {
   "cell_type": "markdown",
   "metadata": {},
   "source": [
    "![title](img/custom_legend_location.jpg)"
   ]
  },
  {
   "cell_type": "code",
   "execution_count": null,
   "metadata": {},
   "outputs": [],
   "source": [
    "N = 30\n",
    "mpl.rcParams.update(mpl.rcParamsDefault)\n",
    "\n",
    "np.random.seed(42)\n",
    "x1 = np.random.rand(N)\n",
    "y1 = np.random.rand(N)\n",
    "\n",
    "np.random.seed(24)\n",
    "x2 = np.random.rand(N)\n",
    "y2 = np.random.rand(N)\n",
    "\n",
    "plt.scatter(x1, y1,label='a')\n",
    "plt.scatter(x2, y2,label='b')\n",
    "\n",
    "plt.title(\"Scatter Plot\")\n",
    "plt.legend(loc=2,edgecolor=\"red\")\n",
    "plt.show()"
   ]
  },
  {
   "cell_type": "markdown",
   "metadata": {},
   "source": [
    "Adjusting Size and Layout"
   ]
  },
  {
   "cell_type": "code",
   "execution_count": null,
   "metadata": {},
   "outputs": [],
   "source": [
    "# plt.figure(figsize=(x,y))"
   ]
  },
  {
   "cell_type": "code",
   "execution_count": null,
   "metadata": {},
   "outputs": [],
   "source": [
    "N = 30\n",
    "mpl.rcParams.update(mpl.rcParamsDefault)\n",
    "\n",
    "np.random.seed(42)\n",
    "x1 = np.random.rand(N)\n",
    "y1 = np.random.rand(N)\n",
    "\n",
    "np.random.seed(24)\n",
    "x2 = np.random.rand(N)\n",
    "y2 = np.random.rand(N)\n",
    "\n",
    "plt.figure(figsize=(9,9))\n",
    "\n",
    "plt.scatter(x1, y1,label='a')\n",
    "plt.scatter(x2, y2,label='b')\n",
    "\n",
    "plt.title(\"Scatter Plot\")\n",
    "plt.legend(loc=2,edgecolor=\"red\")\n",
    "plt.show()"
   ]
  },
  {
   "cell_type": "markdown",
   "metadata": {},
   "source": [
    "### Adding Subplots"
   ]
  },
  {
   "cell_type": "code",
   "execution_count": null,
   "metadata": {},
   "outputs": [],
   "source": [
    "import matplotlib.pyplot as plt\n",
    "import numpy as np\n",
    "\n",
    "# Draw 2x2 subplots and assign them to axes variables\n",
    "fig, axarr = plt.subplots(2,2,sharex=True,sharey=True)\n",
    "\n",
    "# Prepare data\n",
    "x1 = np.linspace(5,5)\n",
    "x2 = np.linspace(0,10)\n",
    "y1 = x2\n",
    "y2 = 10-x2\n",
    "\n",
    "# Plot the data to respective subplots\n",
    "axarr[0,0].plot(x2,y1)\n",
    "axarr[0,1].plot(x2,y2)\n",
    "axarr[1,0].plot(x1,y2)\n",
    "axarr[1,1].plot(x1,y1)\n",
    "\n",
    "# Show the figure\n",
    "plt.show()"
   ]
  },
  {
   "cell_type": "markdown",
   "metadata": {},
   "source": [
    "### Adding Text Annotations"
   ]
  },
  {
   "cell_type": "code",
   "execution_count": null,
   "metadata": {},
   "outputs": [],
   "source": [
    "import matplotlib.pyplot as plt\n",
    "import numpy as np\n",
    "\n",
    "# create 1000 equally spaced points between -10 and 10\n",
    "x = np.linspace(0, 10)\n",
    "\n",
    "# Prepare the data\n",
    "y1 = x\n",
    "y2 = 10-x\n",
    "\n",
    "# Plot the data\n",
    "fig, ax = plt.subplots()\n",
    "plt.plot(x,y1,label='Supply')\n",
    "plt.plot(x,y2,label='Demand')\n",
    "\n",
    "# Annotate the equilibrium point with arrow and text\n",
    "ax.annotate(\"Equilibrium\", xy=(5,5), xytext=(4,2), \\\n",
    "             fontsize=12, fontweight='semibold',\\\n",
    "             arrowprops=dict(linewidth=2, arrowstyle=\"->\"))\n",
    "\n",
    "# Label the axes\n",
    "plt.xlabel('Quantity',fontsize=12,fontweight='semibold')\n",
    "plt.ylabel('Price',fontsize=12,fontweight='semibold')\n",
    "\n",
    "# Style the plot to a common demand-supply graph\n",
    "ax.spines['top'].set_visible(False)\n",
    "ax.spines['right'].set_visible(False)\n",
    "ax.xaxis.set_major_locator(plt.NullLocator())\n",
    "ax.yaxis.set_major_locator(plt.NullLocator())\n",
    "\n",
    "plt.legend()\n",
    "plt.show()"
   ]
  }
 ],
 "metadata": {
  "kernelspec": {
   "display_name": "Python 3",
   "language": "python",
   "name": "python3"
  },
  "language_info": {
   "codemirror_mode": {
    "name": "ipython",
    "version": 3
   },
   "file_extension": ".py",
   "mimetype": "text/x-python",
   "name": "python",
   "nbconvert_exporter": "python",
   "pygments_lexer": "ipython3",
   "version": "3.7.3"
  }
 },
 "nbformat": 4,
 "nbformat_minor": 2
}
